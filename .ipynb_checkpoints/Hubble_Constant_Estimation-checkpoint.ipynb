{
 "cells": [
  {
   "cell_type": "markdown",
   "id": "0b5c7f65",
   "metadata": {},
   "source": [
    "### Hubble Constant Estimation Notebook"
   ]
  },
  {
   "cell_type": "code",
   "execution_count": null,
   "id": "a0d07e16",
   "metadata": {},
   "outputs": [],
   "source": [
    "import numpy as np\n",
    "import matplotlib.pyplot as plt\n",
    "from scipy.optimize import minimize\n",
    "from scipy.stats import linregress\n",
    "import json"
   ]
  },
  {
   "cell_type": "markdown",
   "id": "a30312cd",
   "metadata": {},
   "source": [
    "#### Define functions for corrected distances and Hubble fit"
   ]
  },
  {
   "cell_type": "code",
   "execution_count": null,
   "id": "50a858b8",
   "metadata": {},
   "outputs": [],
   "source": [
    "def corrected_distances(k, m, M):\n",
    "    \"\"\"Calculate corrected distances iteratively.\"\"\"\n",
    "    D = 10 ** ((m - M + 5) / 5) / 1e6\n",
    "    for _ in range(10):\n",
    "        A_V = k * D\n",
    "        m_corr = m - A_V\n",
    "        D = 10 ** ((m_corr - M + 5) / 5) / 1e6\n",
    "    return D\n",
    "\n",
    "def hubble_fit(k, m, M, z, c=3.0e5):\n",
    "    \"\"\"Objective function for Hubble fit.\"\"\"\n",
    "    D_corr = corrected_distances(k, m, M)\n",
    "    v_obs = c * z\n",
    "    H0, intercept, _, _, _ = linregress(D_corr, v_obs)\n",
    "    v_pred = H0 * D_corr\n",
    "    return np.sum((v_obs - v_pred)**2)\n",
    "\n",
    "def compute_H0(k, m, M, z, c=3.0e5):\n",
    "    \"\"\"Compute Hubble constant H0.\"\"\"\n",
    "    D_corr = corrected_distances(k, m, M)\n",
    "    v_obs = c * z\n",
    "    H0, intercept, _, _, _ = linregress(D_corr, v_obs)\n",
    "    return H0"
   ]
  },
  {
   "cell_type": "markdown",
   "id": "d5d84503",
   "metadata": {},
   "source": [
    "#### Load data from JSON file"
   ]
  },
  {
   "cell_type": "code",
   "execution_count": null,
   "id": "45b62ef9",
   "metadata": {},
   "outputs": [],
   "source": [
    "with open('Challenge2_data.json', 'r') as f:\n",
    "    data = json.load(f)\n",
    "\n",
    "# Extract data\n",
    "apparent_magnitude = np.array(data['Apparent Magitude (m)'])\n",
    "absolute_magnitude = np.array(data['Absolute Magnitude (M)'])\n",
    "redshift = np.array(data['Redshift (z)'])"
   ]
  },
  {
   "cell_type": "markdown",
   "id": "b7e98469",
   "metadata": {},
   "source": [
    "#### Define constants and optimize k"
   ]
  },
  {
   "cell_type": "code",
   "execution_count": null,
   "id": "2bd6a48e",
   "metadata": {},
   "outputs": [],
   "source": [
    "c = 299792.458  # Speed of light in km/s\n",
    "k_initial = 0.0  # Initial guess for k\n",
    "\n",
    "# Optimize k using minimize\n",
    "result = minimize(hubble_fit, k_initial, args=(apparent_magnitude, absolute_magnitude, redshift))\n",
    "k_best = result.x[0]\n",
    "hess_inv = result.hess_inv\n",
    "k_error = np.sqrt(hess_inv[0][0])"
   ]
  },
  {
   "cell_type": "markdown",
   "id": "10bdd708",
   "metadata": {},
   "source": [
    "#### Calculate distances and velocities"
   ]
  },
  {
   "cell_type": "code",
   "execution_count": null,
   "id": "c645c0e3",
   "metadata": {},
   "outputs": [],
   "source": [
    "D_initial = 10 ** ((apparent_magnitude - absolute_magnitude + 5) / 5) / 1e6\n",
    "for _ in range(10):\n",
    "    A_V = k_best * D_initial\n",
    "    m_corr = apparent_magnitude - A_V\n",
    "    D_initial = 10 ** ((m_corr - absolute_magnitude + 5) / 5) / 1e6\n",
    "\n",
    "Distance_array = D_initial\n",
    "Velocity_array = redshift * c"
   ]
  },
  {
   "cell_type": "markdown",
   "id": "a7b5e0d1",
   "metadata": {},
   "source": [
    "#### Perform linear regression and plot results"
   ]
  },
  {
   "cell_type": "code",
   "execution_count": null,
   "id": "135a5f59",
   "metadata": {},
   "outputs": [],
   "source": [
    "slope, intercept, r_value, p_value, std_err = linregress(Distance_array, Velocity_array)\n",
    "\n",
    "# Plot results\n",
    "x = np.linspace(0, 200, 10000)\n",
    "y = slope * x + intercept\n",
    "\n",
    "plt.figure(figsize=(10, 6))\n",
    "plt.scatter(Distance_array, Velocity_array, label='Observed Data', color='blue', alpha=0.7)\n",
    "plt.plot(x, y, label=f'Best Fit Line: H0 = {slope:.2f}', color='red')\n",
    "plt.xlabel('Distance (Mpc)')\n",
    "plt.ylabel('Velocity (km/s)')\n",
    "plt.title('Hubble Diagram')\n",
    "plt.legend()\n",
    "plt.grid(True)\n",
    "plt.show()"
   ]
  },
  {
   "cell_type": "markdown",
   "id": "c92254b1",
   "metadata": {},
   "source": [
    "#### Display results"
   ]
  },
  {
   "cell_type": "code",
   "execution_count": null,
   "id": "65a99d09",
   "metadata": {},
   "outputs": [],
   "source": [
    "print(f\"H0 = {slope:.2f} ± {std_err:.2f} km/s-Mpc\")\n",
    "print(f\"k = {k_best:.4f} ± {k_error:.4f} mag/Mpc\")"
   ]
  }
 ],
 "metadata": {},
 "nbformat": 4,
 "nbformat_minor": 5
}
