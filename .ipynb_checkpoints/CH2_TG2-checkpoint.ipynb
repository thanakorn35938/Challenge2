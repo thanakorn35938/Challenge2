{
   "cells": [
      {
         "cell_type": "code",
         "execution_count": 2,
         "metadata": {},
         "outputs": [
            {
               "ename": "ModuleNotFoundError",
               "evalue": "No module named 'pandas'",
               "output_type": "error",
               "traceback": [
                  "\u001b[1;31m---------------------------------------------------------------------------\u001b[0m",
                  "\u001b[1;31mModuleNotFoundError\u001b[0m                       Traceback (most recent call last)",
                  "Cell \u001b[1;32mIn[2], line 1\u001b[0m\n\u001b[1;32m----> 1\u001b[0m \u001b[38;5;28;01mimport\u001b[39;00m \u001b[38;5;21;01mpandas\u001b[39;00m \u001b[38;5;28;01mas\u001b[39;00m \u001b[38;5;21;01mpd\u001b[39;00m\n\u001b[0;32m      2\u001b[0m \u001b[38;5;28;01mimport\u001b[39;00m \u001b[38;5;21;01mnumpy\u001b[39;00m \u001b[38;5;28;01mas\u001b[39;00m \u001b[38;5;21;01mnp\u001b[39;00m\n\u001b[0;32m      3\u001b[0m \u001b[38;5;28;01mimport\u001b[39;00m \u001b[38;5;21;01mmatplotlib\u001b[39;00m\u001b[38;5;21;01m.\u001b[39;00m\u001b[38;5;21;01mpyplot\u001b[39;00m \u001b[38;5;28;01mas\u001b[39;00m \u001b[38;5;21;01mplt\u001b[39;00m\n",
                  "\u001b[1;31mModuleNotFoundError\u001b[0m: No module named 'pandas'"
               ]
            }
         ],
         "source": [
            "import pandas as pd\n",
            "import numpy as np\n",
            "import matplotlib.pyplot as plt\n",
            "import scipy.stats\n",
            "from scipy.stats import linregress"
         ]
      },
      {
         "cell_type": "markdown",
         "metadata": {},
         "source": [
            "####Read Chellenge data from json file"
         ]
      },
      {
         "cell_type": "code",
         "execution_count": null,
         "metadata": {},
         "outputs": [],
         "source": [
            "with open('Challenge2_data.json', 'r') as f:\n",
            "    data = json.load(f)\n",
            "\n",
            "# Extract data\n",
            "m = np.array(data['Apparent Magitude (m)'])\n",
            "M = np.array(data['Absolute Magnitude (M)'])\n",
            "z = np.array(data['Redshift (z)'])"
         ]
      },
      {
         "cell_type": "code",
         "execution_count": null,
         "metadata": {},
         "outputs": [],
         "source": [
            "D_final = []\n",
            "v_final = []"
         ]
      },
      {
         "cell_type": "markdown",
         "metadata": {},
         "source": [
            "####Calculation for best-fit line and Plotting Data"
         ]
      },
      {
         "cell_type": "code",
         "execution_count": null,
         "metadata": {},
         "outputs": [],
         "source": [
            "for i in range(19):\n",
            "    d = 10**((m[i] - M[i] - 25) / 5)  \n",
            "    v = z[i] * 299792.458  \n",
            "    D_final.append(d)  \n",
            "    v_final.append(v)  \n",
            "\n",
            "D_final = np.array(D_final)\n",
            "v_final = np.array(v_final)\n",
            "\n",
            "slope, intercept, r_value, p_value, std_err = linregress(D_final, v_final)\n",
            "\n",
            "D_fit = np.linspace(min(D_final), max(D_final), 100)  # Distance range for plotting\n",
            "v_fit = slope * D_fit + intercept  # Best-fit line"
         ]
      },
      {
         "cell_type": "code",
         "execution_count": null,
         "metadata": {},
         "outputs": [],
         "source": [
            "plt.scatter(D_final,v_final)\n",
            "plt.plot(D_fit, v_fit)\n",
            "plt.xlabel(\"Distance (Mpc)\")\n",
            "plt.ylabel(\"Recessional Velocity (km/s)\")\n",
            "plt.title(\"Hubble's Law with Best-Fit Line\")\n",
            "plt.show()"
         ]
      },
      {
         "cell_type": "code",
         "execution_count": null,
         "metadata": {},
         "outputs": [],
         "source": [
            "H0 = slope\n",
            "H0_error = std_err\n",
            "P_value=p_value\n",
            "R_value=r_value\n",
            "print(f\"Hubble constant (H0): {H0:.2f} ± {H0_error:.2f} km/s/Mpc\")\n",
            "print(f\"P Value:{P_value:.9f}\")\n",
            "print(f\"P Value:{R_value:.9f}\")"
         ]
      }
   ],
   "metadata": {
      "kernelspec": {
         "display_name": "sacc",
         "language": "python",
         "name": "python3"
      },
      "language_info": {
         "codemirror_mode": {
            "name": "ipython",
            "version": 3
         },
         "file_extension": ".py",
         "mimetype": "text/x-python",
         "name": "python",
         "nbconvert_exporter": "python",
         "pygments_lexer": "ipython3",
         "version": "3.12.8"
      }
   },
   "nbformat": 4,
   "nbformat_minor": 4
}
